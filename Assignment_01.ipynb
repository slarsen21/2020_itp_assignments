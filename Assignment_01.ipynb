{
 "cells": [
  {
   "cell_type": "markdown",
   "metadata": {},
   "source": [
    "# Introduction to Programming (Summer 2019)\n",
    "## Assignment 1 (Due date: Monday 29th July 2019 11:59pm)"
   ]
  },
  {
   "cell_type": "markdown",
   "metadata": {},
   "source": [
    "## Question 1\n",
    "### Basic mathematical operations\n",
    "\n",
    "Basic mathematical operations between two integers:\n",
    "\n",
    "Using 14 and 3 perform the following operations:\n",
    "+ addition\n",
    "+ subtraction\n",
    "+ multiplication\n",
    "+ division\n",
    "+ power (14^3)\n",
    "\n",
    "You should output the type of the result as well as the result. eg:\n",
    "+ operation: 14 + 3 \n",
    "+ output: < class 'int'> 17"
   ]
  },
  {
   "cell_type": "code",
   "execution_count": null,
   "metadata": {},
   "outputs": [],
   "source": [
    "# CODE FOR 1"
   ]
  },
  {
   "cell_type": "markdown",
   "metadata": {},
   "source": [
    "## Question 2\n",
    "### Variables\n",
    "\n",
    "Perform the same operations as in Question 1, except use the input() operation to get two integers. In addition store the result of each operation in a variable called result_< operation > eg result_addition for addition (Assume that the user will always enter valid input)."
   ]
  },
  {
   "cell_type": "code",
   "execution_count": null,
   "metadata": {},
   "outputs": [],
   "source": [
    "number1 = #ADD CODE TO GET FIRST INT\n",
    "number2 = #ADD CODE TO GET SECOND INT\n",
    "\n",
    "# Replace '0' with the expression for each operation\n",
    "# ADDITION\n",
    "result_addition = 0\n",
    "# SUBTRACTION\n",
    "result_subtraction = 0\n",
    "# MULTIPLICATION\n",
    "result_multiplication = 0\n",
    "# DIVISION\n",
    "result_division = 0\n",
    "# POWER\n",
    "result_power = 0\n",
    "\n",
    "# THIS IS TO CHECK YOUR CODE, DON'T CHANGE THIS\n",
    "# IF YOUR CODE IS CORRECT YOU WILL NOT GET ANY ERRORS\n",
    "assert result_addition == number1 + number2, \"{} != {} + {}\".format(result_addition, number1, number2)\n",
    "assert result_subtraction == number1 - number2, \"{} != {} - {}\".format(result_addition, number1, number2)\n",
    "assert result_multiplication == number1 * number2, \"{} != {} * {}\".format(result_addition, number1, number2)\n",
    "assert result_division == number1 / number2, \"{} != {} / {}\".format(result_addition, number1, number2)\n",
    "assert result_power == number1 ** number2, \"{} != {} ** {}\".format(result_addition, number1, number2)"
   ]
  },
  {
   "cell_type": "markdown",
   "metadata": {},
   "source": [
    "## Question 3\n",
    "### Conditionals\n",
    "\n",
    "#### 3.1)\n",
    "Write code to get an integer from the user (assume the user will always enter a integer) as input. \n",
    "\n",
    "If the integer is less than **25** print \"**The number is less than 25**\" and if the number is greater than or equal to 25 print \"**The number is 25 or larger**\"."
   ]
  },
  {
   "cell_type": "code",
   "execution_count": null,
   "metadata": {
    "collapsed": true,
    "jupyter": {
     "outputs_hidden": true
    }
   },
   "outputs": [],
   "source": [
    "# CODE FOR 3.1"
   ]
  },
  {
   "cell_type": "markdown",
   "metadata": {},
   "source": [
    "#### 3.2)\n",
    "Extend the code from 3.1 to also check whether the number is **a multiple of 5**. There are four options that can be output by your code now:\n",
    "+ The number is **a multiple of 5** and **less than 25**.\n",
    "+ The number is **a multiple of 5** and **greater than or equal to 25**.\n",
    "+ The number is **not a multiple of 5** and **less than 25**.\n",
    "+ The number is **not a multiple of 5** and **greater than or equal to 25**."
   ]
  },
  {
   "cell_type": "code",
   "execution_count": null,
   "metadata": {},
   "outputs": [],
   "source": [
    "# CODE FOR 3.2"
   ]
  },
  {
   "cell_type": "markdown",
   "metadata": {},
   "source": [
    "#### 3.3)\n",
    "Extend the code from 3.2 to check whether the user has input a integer. If the number is not an integer print \"Error, the value which was input is not an integer\".\n",
    "\n",
    "There are now 5 possible output messages:\n",
    "+ Error, the value which was input is not an integer.\n",
    "+ The number is **a multiple of 5** and **less than 25**.\n",
    "+ The number is **a multiple of 5** and **greater than or equal to 25**.\n",
    "+ The number is **not a multiple of 5** and **less than 25**.\n",
    "+ The number is **not a multiple of 5** and **greater than or equal to 25**."
   ]
  },
  {
   "cell_type": "code",
   "execution_count": null,
   "metadata": {},
   "outputs": [],
   "source": [
    "# CODE FOR 3.3"
   ]
  },
  {
   "cell_type": "markdown",
   "metadata": {},
   "source": [
    "## Question 4\n",
    "### Looping\n",
    "\n",
    "In lecture 5 we wrote code to print squares to the console, these questions will require different shapes to be printed.\n",
    "\n",
    "For each of shapes print using the following characters:\n",
    "+ Start by using only the '*' character\n",
    "+ Use the row index as the character\n",
    "+ Use the column index as the character\n",
    "+ Use the cummulative index as the character\n",
    "\n",
    "**For all of these questions assume that the user will always enter integers and that (1 <= input <= 9)**\n",
    "\n",
    "### Example (printing a square of size 'n'):"
   ]
  },
  {
   "cell_type": "code",
   "execution_count": null,
   "metadata": {},
   "outputs": [],
   "source": [
    "n = int(input(\"Enter n\"))\n",
    "\n",
    "# USING '*' AS THE CHARACTER\n",
    "print('* Character\\n---------')\n",
    "for j in range(n):\n",
    "    line = ''\n",
    "    for i in range(n):\n",
    "        line += '{:>2}'.format('*')\n",
    "    print(line)\n",
    "    \n",
    "# USING THE ROW INDEX AS THE CHARACTER\n",
    "print('Row Index\\n---------')\n",
    "for j in range(n):\n",
    "    line = ''\n",
    "    for i in range(n):\n",
    "        line += '{:>3}'.format(j)\n",
    "    print(line)\n",
    "    \n",
    "# USING THE COL INDEX AS THE CHARACTER\n",
    "print('Column Index\\n---------')\n",
    "for j in range(n):\n",
    "    line = ''\n",
    "    for i in range(n):\n",
    "        line += '{:>3}'.format(i)\n",
    "    print(line)\n",
    "\n",
    "# USING THE CUMULATIVE INDEX AS THE CHARACTER\n",
    "print('Cumulative Index\\n---------')\n",
    "for j in range(n):\n",
    "    line = ''\n",
    "    for i in range(n):\n",
    "        line += '{:>3}'.format(j * n + i)\n",
    "    print(line)"
   ]
  },
  {
   "cell_type": "markdown",
   "metadata": {},
   "source": [
    "#### 4.1)\n",
    "Print a rectangle with height **n** and width **m**\n",
    "\n",
    "**eg:**: n = 3, m = 2\n",
    "```\n",
    "***\n",
    "***\n",
    "***\n",
    "\n",
    "  0  0\n",
    "  1  1\n",
    "  2  2\n",
    "\n",
    "  0  1\n",
    "  0  1\n",
    "  0  1\n",
    "\n",
    "  0  1\n",
    "  2  3\n",
    "  4  5\n",
    "```"
   ]
  },
  {
   "cell_type": "code",
   "execution_count": null,
   "metadata": {
    "collapsed": true,
    "jupyter": {
     "outputs_hidden": true
    }
   },
   "outputs": [],
   "source": [
    "n = int(input(\"Enter n\"))\n",
    "m = int(input(\"Enter m\"))"
   ]
  },
  {
   "cell_type": "markdown",
   "metadata": {},
   "source": [
    "#### 4.2)\n",
    "Print an isosceles triangle with height and width equal to **n** and the right angled corner on the lower left.\n",
    "\n",
    "Tip:\n",
    "\n",
    "For the cumulative index you can use the formula for triangle number to calculate the offset of the first column of each row.\n",
    "\n",
    "**eg:**: n = 5\n",
    "```\n",
    "\n",
    "* Character\n",
    "---------\n",
    "*\n",
    "**\n",
    "***\n",
    "****\n",
    "*****\n",
    "Row Index\n",
    "---------\n",
    "  0\n",
    "  1  1\n",
    "  2  2  2\n",
    "  3  3  3  3\n",
    "  4  4  4  4  4\n",
    "Column Index\n",
    "---------\n",
    "  0\n",
    "  0  1\n",
    "  0  1  2\n",
    "  0  1  2  3\n",
    "  0  1  2  3  4\n",
    "Cumulative Index\n",
    "---------\n",
    "  0\n",
    "  1  2\n",
    "  3  4  5\n",
    "  6  7  8  9 \n",
    " 10 11 12 13 14\n",
    "\n",
    "```"
   ]
  },
  {
   "cell_type": "code",
   "execution_count": null,
   "metadata": {
    "collapsed": true,
    "jupyter": {
     "outputs_hidden": true
    }
   },
   "outputs": [],
   "source": [
    "n = int(input(\"Enter n\"))"
   ]
  },
  {
   "cell_type": "markdown",
   "metadata": {},
   "source": [
    "#### 4.3)\n",
    "Print an isosceles triangle with height and width equal to **n** and the right angled corner on the upper left.\n",
    "\n",
    "Tip:\n",
    "\n",
    "For the cumulative index you can use the formula for triangle number to calculate the offset of the first column of each row.\n",
    "\n",
    "https://www.mathsisfun.com/algebra/triangular-numbers.html\n",
    "\n",
    "**eg:**: n = 5\n",
    "```\n",
    "* Character\n",
    "---------\n",
    " * * * * *\n",
    " * * * *\n",
    " * * *\n",
    " * *\n",
    " *\n",
    "Row Index\n",
    "---------\n",
    "  0  0  0  0  0\n",
    "  1  1  1  1\n",
    "  2  2  2\n",
    "  3  3\n",
    "  4\n",
    "Column Index\n",
    "---------\n",
    "  0  1  2  3  4\n",
    "  0  1  2  3\n",
    "  0  1  2\n",
    "  0  1\n",
    "  0\n",
    "Cumulative Index\n",
    "---------\n",
    "  0  1  2  3  4\n",
    "  5  6  7  8\n",
    "  9 10 11\n",
    " 12 13\n",
    " 14\n",
    "```"
   ]
  },
  {
   "cell_type": "code",
   "execution_count": null,
   "metadata": {},
   "outputs": [],
   "source": [
    "n = int(input(\"Enter n\"))"
   ]
  },
  {
   "cell_type": "markdown",
   "metadata": {},
   "source": [
    "## Question 5\n",
    "### Finding Prime Numbers\n",
    "\n",
    "Write code which finds all of the prime numbers between 2 and 100 and store them in a list.\n",
    "Then print the list of prime numbers.\n",
    "\n",
    "A prime number is a number which is only divisible by itself and 1.\n",
    "\n",
    "Some starting code has been provided."
   ]
  },
  {
   "cell_type": "code",
   "execution_count": null,
   "metadata": {},
   "outputs": [],
   "source": [
    "results = []\n",
    "for i in range(2, 101):\n",
    "    prime = True\n",
    "    for j in range(2, i//2+1):\n",
    "        if #COMPLETE#:\n",
    "            prime = False\n",
    "    #COMPLETE#\n",
    "\n",
    "print(results)\n",
    "# expected output: [2, 3, 5, 7, 11, 13, 17, 19, 23, 29, 31, 37, 41, 43, 47, 53, 59, 61, 67, 71, 73, 79, 83, 89, 97]"
   ]
  },
  {
   "cell_type": "markdown",
   "metadata": {},
   "source": [
    "## Question 6\n",
    "### git and github\n",
    "\n",
    "Some information about git can be found here https://guides.github.com/introduction/git-handbook/ .\n",
    "\n",
    "\n",
    "1. Create a directory called '2019_itp_assignments' for all of the homework assignments. (mkdir)\n",
    "    + **Do not** make this directory in the 2019_itp directory which contains the lecture material\n",
    "    + This is because a directory can only contain a single .git repository\n",
    "2. Add this Jupyter notebook to the directory you just created. (copy and paste it)\n",
    "3. Initialize this directory as a git repository\n",
    "4. Add your assignment notebook to the repository\n",
    "5. Commit your assignment\n",
    "6. On github.com create a new repository called 2019_itp_assigments\n",
    "7. Make this repo private when creating it and add me as a collaborator (In Repo -> Settings -> Collaborators -> Add Collaborator (MarkGrivainis))\n",
    "8. Link the github repository with your local repository\n",
    "9. Push your assignment / changes upstream to github\n",
    "10. Email the link to your github repository to Mark.Grivainis@nyulangone.org\n",
    "\n",
    "All of your homework will be added to this repository, you will need to have pushed your changes before the deadline for any of the assignments."
   ]
  }
 ],
 "metadata": {
  "kernelspec": {
   "display_name": "Python 3",
   "language": "python",
   "name": "python3"
  },
  "language_info": {
   "codemirror_mode": {
    "name": "ipython",
    "version": 3
   },
   "file_extension": ".py",
   "mimetype": "text/x-python",
   "name": "python",
   "nbconvert_exporter": "python",
   "pygments_lexer": "ipython3",
   "version": "3.7.3"
  }
 },
 "nbformat": 4,
 "nbformat_minor": 4
}
